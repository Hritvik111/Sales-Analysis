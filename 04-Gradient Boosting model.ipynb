{
 "cells": [
  {
   "cell_type": "code",
   "execution_count": 1,
   "metadata": {},
   "outputs": [],
   "source": [
    "import pandas as pd\n",
    "from sklearn.model_selection import train_test_split\n",
    "from sklearn.ensemble import GradientBoostingRegressor\n",
    "from sklearn.metrics import mean_squared_error, r2_score"
   ]
  },
  {
   "cell_type": "code",
   "execution_count": 2,
   "metadata": {},
   "outputs": [],
   "source": [
    "# Load the datasets\n",
    "orders = pd.read_excel('Sales Data.xls', sheet_name='Orders')\n",
    "people = pd.read_excel('Sales Data.xls', sheet_name='People')\n",
    "returns = pd.read_excel('Sales Data.xls', sheet_name='Returns')"
   ]
  },
  {
   "cell_type": "code",
   "execution_count": 3,
   "metadata": {},
   "outputs": [
    {
     "name": "stdout",
     "output_type": "stream",
     "text": [
      "Gradient Boosting Regression (Sales) - Mean Squared Error: 502526.84, R2 Score: 0.04\n",
      "Gradient Boosting Regression (Profit) - Mean Squared Error: 87179.76, R2 Score: 0.03\n"
     ]
    }
   ],
   "source": [
    "# Function to evaluate model performance\n",
    "def evaluate_model(predictions, y_test, model_name):\n",
    "    mse = mean_squared_error(y_test, predictions)\n",
    "    r2 = r2_score(y_test, predictions)\n",
    "    print(f\"{model_name} - Mean Squared Error: {mse:.2f}, R2 Score: {r2:.2f}\")\n",
    "\n",
    "# Selecting features\n",
    "features = ['Quantity', 'Discount']\n",
    "\n",
    "# Creating feature matrix (X) and target variable for Sales (y_sales)\n",
    "X = orders[features]\n",
    "y_sales = orders['Sales']\n",
    "\n",
    "# Splitting the data into training and testing sets for Sales\n",
    "X_train_sales, X_test_sales, y_train_sales, y_test_sales = train_test_split(X, y_sales, test_size=0.2, random_state=42)\n",
    "\n",
    "# Initializing Gradient Boosting Regression model for Sales\n",
    "gradient_boosting_model_sales = GradientBoostingRegressor(random_state=42)\n",
    "\n",
    "# Training the model for Sales\n",
    "gradient_boosting_model_sales.fit(X_train_sales, y_train_sales)\n",
    "\n",
    "# Making predictions on the test set for Sales\n",
    "gradient_boosting_predictions_sales = gradient_boosting_model_sales.predict(X_test_sales)\n",
    "\n",
    "# Evaluating model performance for Sales\n",
    "evaluate_model(gradient_boosting_predictions_sales, y_test_sales, \"Gradient Boosting Regression (Sales)\")\n",
    "\n",
    "# Creating feature matrix (X) and target variable for Profit (y_profit)\n",
    "y_profit = orders['Profit']\n",
    "\n",
    "# Splitting the data into training and testing sets for Profit\n",
    "X_train_profit, X_test_profit, y_train_profit, y_test_profit = train_test_split(X, y_profit, test_size=0.2, random_state=42)\n",
    "\n",
    "# Initializing Gradient Boosting Regression model for Profit\n",
    "gradient_boosting_model_profit = GradientBoostingRegressor(random_state=42)\n",
    "\n",
    "# Training the model for Profit\n",
    "gradient_boosting_model_profit.fit(X_train_profit, y_train_profit)\n",
    "\n",
    "# Making predictions on the test set for Profit\n",
    "gradient_boosting_predictions_profit = gradient_boosting_model_profit.predict(X_test_profit)\n",
    "\n",
    "# Evaluating model performance for Profit\n",
    "evaluate_model(gradient_boosting_predictions_profit, y_test_profit, \"Gradient Boosting Regression (Profit)\")\n"
   ]
  }
 ],
 "metadata": {
  "kernelspec": {
   "display_name": "Python 3",
   "language": "python",
   "name": "python3"
  },
  "language_info": {
   "codemirror_mode": {
    "name": "ipython",
    "version": 3
   },
   "file_extension": ".py",
   "mimetype": "text/x-python",
   "name": "python",
   "nbconvert_exporter": "python",
   "pygments_lexer": "ipython3",
   "version": "3.11.3"
  }
 },
 "nbformat": 4,
 "nbformat_minor": 2
}
